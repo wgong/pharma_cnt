{
 "cells": [
  {
   "cell_type": "code",
   "execution_count": 1,
   "metadata": {},
   "outputs": [],
   "source": [
    "import numpy as np\n",
    "import pandas as pd\n",
    "import matplotlib.pyplot as plt"
   ]
  },
  {
   "cell_type": "markdown",
   "metadata": {},
   "source": [
    "### How does the code perform?"
   ]
  },
  {
   "cell_type": "code",
   "execution_count": 2,
   "metadata": {},
   "outputs": [],
   "source": [
    "pf = pd.read_csv('perf.csv')\n",
    "pf = pf[['nlines','processed_time']]"
   ]
  },
  {
   "cell_type": "code",
   "execution_count": 3,
   "metadata": {},
   "outputs": [
    {
     "data": {
      "text/plain": [
       "array([  2.57848333e-05,   3.17044523e-02])"
      ]
     },
     "execution_count": 3,
     "metadata": {},
     "output_type": "execute_result"
    }
   ],
   "source": [
    "# linear fit\n",
    "lm = np.polyfit(pf.nlines, pf.processed_time, 1)\n",
    "lm"
   ]
  },
  {
   "cell_type": "code",
   "execution_count": 4,
   "metadata": {},
   "outputs": [],
   "source": [
    "# get predicted val\n",
    "x = np.arange(0,510000,100000)\n",
    "y = x*lm[0] + lm[1]"
   ]
  },
  {
   "cell_type": "code",
   "execution_count": 5,
   "metadata": {},
   "outputs": [
    {
     "data": {
      "text/plain": [
       "[<matplotlib.lines.Line2D at 0x9f70518>]"
      ]
     },
     "execution_count": 5,
     "metadata": {},
     "output_type": "execute_result"
    },
    {
     "data": {
      "image/png": "[encoded data removed]",
      "text/plain": [
       "<matplotlib.figure.Figure at 0x9f70240>"
      ]
     },
     "metadata": {},
     "output_type": "display_data"
    }
   ],
   "source": [
    "# how good the fit\n",
    "pf.plot.scatter(x='nlines', y='processed_time',  c='DarkBlue', s=35)\n",
    "plt.plot(x, y, '-', c='Red')"
   ]
  },
  {
   "cell_type": "markdown",
   "metadata": {},
   "source": [
    "The performance scales linearly.\n",
    "\n",
    "One can also split a large file into many smaller files, process them in parallel and distributed way."
   ]
  },
  {
   "cell_type": "markdown",
   "metadata": {},
   "source": [
    "### Discover drug"
   ]
  },
  {
   "cell_type": "code",
   "execution_count": 6,
   "metadata": {},
   "outputs": [],
   "source": [
    "df = pd.read_csv('top_cost_drug-500k.txt')"
   ]
  },
  {
   "cell_type": "code",
   "execution_count": 7,
   "metadata": {},
   "outputs": [
    {
     "data": {
      "text/html": [
       "<div>\n",
       "<table border=\"1\" class=\"dataframe\">\n",
       "  <thead>\n",
       "    <tr style=\"text-align: right;\">\n",
       "      <th></th>\n",
       "      <th>drug_name</th>\n",
       "      <th>num_prescriber</th>\n",
       "      <th>total_cost</th>\n",
       "    </tr>\n",
       "  </thead>\n",
       "  <tbody>\n",
       "    <tr>\n",
       "      <th>0</th>\n",
       "      <td>HARVONI</td>\n",
       "      <td>135</td>\n",
       "      <td>1.503435e+08</td>\n",
       "    </tr>\n",
       "    <tr>\n",
       "      <th>1</th>\n",
       "      <td>CRESTOR</td>\n",
       "      <td>2766</td>\n",
       "      <td>5.272927e+07</td>\n",
       "    </tr>\n",
       "    <tr>\n",
       "      <th>2</th>\n",
       "      <td>REVLIMID</td>\n",
       "      <td>147</td>\n",
       "      <td>5.111972e+07</td>\n",
       "    </tr>\n",
       "    <tr>\n",
       "      <th>3</th>\n",
       "      <td>LANTUS SOLOSTAR</td>\n",
       "      <td>2068</td>\n",
       "      <td>4.904834e+07</td>\n",
       "    </tr>\n",
       "    <tr>\n",
       "      <th>4</th>\n",
       "      <td>SPIRIVA</td>\n",
       "      <td>2176</td>\n",
       "      <td>4.790845e+07</td>\n",
       "    </tr>\n",
       "  </tbody>\n",
       "</table>\n",
       "</div>"
      ],
      "text/plain": [
       "         drug_name  num_prescriber    total_cost\n",
       "0          HARVONI             135  1.503435e+08\n",
       "1          CRESTOR            2766  5.272927e+07\n",
       "2         REVLIMID             147  5.111972e+07\n",
       "3  LANTUS SOLOSTAR            2068  4.904834e+07\n",
       "4          SPIRIVA            2176  4.790845e+07"
      ]
     },
     "execution_count": 7,
     "metadata": {},
     "output_type": "execute_result"
    }
   ],
   "source": [
    "df.head()"
   ]
  },
  {
   "cell_type": "code",
   "execution_count": 8,
   "metadata": {},
   "outputs": [
    {
     "data": {
      "text/html": [
       "<div>\n",
       "<table border=\"1\" class=\"dataframe\">\n",
       "  <thead>\n",
       "    <tr style=\"text-align: right;\">\n",
       "      <th></th>\n",
       "      <th>drug_name</th>\n",
       "      <th>num_prescriber</th>\n",
       "      <th>total_cost</th>\n",
       "    </tr>\n",
       "  </thead>\n",
       "  <tbody>\n",
       "  </tbody>\n",
       "</table>\n",
       "</div>"
      ],
      "text/plain": [
       "Empty DataFrame\n",
       "Columns: [drug_name, num_prescriber, total_cost]\n",
       "Index: []"
      ]
     },
     "execution_count": 8,
     "metadata": {},
     "output_type": "execute_result"
    }
   ],
   "source": [
    "df[df['num_prescriber'] < 1]"
   ]
  },
  {
   "cell_type": "code",
   "execution_count": 9,
   "metadata": {},
   "outputs": [],
   "source": [
    "# add a var\n",
    "df['avg_cost'] = df.total_cost / df.num_prescriber"
   ]
  },
  {
   "cell_type": "markdown",
   "metadata": {},
   "source": [
    "#### Which one is the most costly"
   ]
  },
  {
   "cell_type": "code",
   "execution_count": 10,
   "metadata": {},
   "outputs": [
    {
     "data": {
      "text/html": [
       "<div>\n",
       "<table border=\"1\" class=\"dataframe\">\n",
       "  <thead>\n",
       "    <tr style=\"text-align: right;\">\n",
       "      <th></th>\n",
       "      <th>drug_name</th>\n",
       "      <th>num_prescriber</th>\n",
       "      <th>total_cost</th>\n",
       "      <th>avg_cost</th>\n",
       "    </tr>\n",
       "  </thead>\n",
       "  <tbody>\n",
       "    <tr>\n",
       "      <th>0</th>\n",
       "      <td>HARVONI</td>\n",
       "      <td>135</td>\n",
       "      <td>1.503435e+08</td>\n",
       "      <td>1.113655e+06</td>\n",
       "    </tr>\n",
       "    <tr>\n",
       "      <th>1</th>\n",
       "      <td>CRESTOR</td>\n",
       "      <td>2766</td>\n",
       "      <td>5.272927e+07</td>\n",
       "      <td>1.906337e+04</td>\n",
       "    </tr>\n",
       "    <tr>\n",
       "      <th>2</th>\n",
       "      <td>REVLIMID</td>\n",
       "      <td>147</td>\n",
       "      <td>5.111972e+07</td>\n",
       "      <td>3.477532e+05</td>\n",
       "    </tr>\n",
       "    <tr>\n",
       "      <th>3</th>\n",
       "      <td>LANTUS SOLOSTAR</td>\n",
       "      <td>2068</td>\n",
       "      <td>4.904834e+07</td>\n",
       "      <td>2.371777e+04</td>\n",
       "    </tr>\n",
       "    <tr>\n",
       "      <th>4</th>\n",
       "      <td>SPIRIVA</td>\n",
       "      <td>2176</td>\n",
       "      <td>4.790845e+07</td>\n",
       "      <td>2.201675e+04</td>\n",
       "    </tr>\n",
       "  </tbody>\n",
       "</table>\n",
       "</div>"
      ],
      "text/plain": [
       "         drug_name  num_prescriber    total_cost      avg_cost\n",
       "0          HARVONI             135  1.503435e+08  1.113655e+06\n",
       "1          CRESTOR            2766  5.272927e+07  1.906337e+04\n",
       "2         REVLIMID             147  5.111972e+07  3.477532e+05\n",
       "3  LANTUS SOLOSTAR            2068  4.904834e+07  2.371777e+04\n",
       "4          SPIRIVA            2176  4.790845e+07  2.201675e+04"
      ]
     },
     "execution_count": 10,
     "metadata": {},
     "output_type": "execute_result"
    }
   ],
   "source": [
    "df.sort_values('total_cost', ascending=False).head(5)"
   ]
  },
  {
   "cell_type": "code",
   "execution_count": 11,
   "metadata": {},
   "outputs": [
    {
     "data": {
      "text/html": [
       "<div>\n",
       "<table border=\"1\" class=\"dataframe\">\n",
       "  <thead>\n",
       "    <tr style=\"text-align: right;\">\n",
       "      <th></th>\n",
       "      <th>drug_name</th>\n",
       "      <th>total_cost</th>\n",
       "    </tr>\n",
       "  </thead>\n",
       "  <tbody>\n",
       "    <tr>\n",
       "      <th>9</th>\n",
       "      <td>NEXIUM</td>\n",
       "      <td>3.543758e+07</td>\n",
       "    </tr>\n",
       "    <tr>\n",
       "      <th>8</th>\n",
       "      <td>LANTUS</td>\n",
       "      <td>3.731856e+07</td>\n",
       "    </tr>\n",
       "    <tr>\n",
       "      <th>7</th>\n",
       "      <td>RENVELA</td>\n",
       "      <td>4.059754e+07</td>\n",
       "    </tr>\n",
       "    <tr>\n",
       "      <th>6</th>\n",
       "      <td>JANUVIA</td>\n",
       "      <td>4.090811e+07</td>\n",
       "    </tr>\n",
       "    <tr>\n",
       "      <th>5</th>\n",
       "      <td>ADVAIR DISKUS</td>\n",
       "      <td>4.659865e+07</td>\n",
       "    </tr>\n",
       "    <tr>\n",
       "      <th>4</th>\n",
       "      <td>SPIRIVA</td>\n",
       "      <td>4.790845e+07</td>\n",
       "    </tr>\n",
       "    <tr>\n",
       "      <th>3</th>\n",
       "      <td>LANTUS SOLOSTAR</td>\n",
       "      <td>4.904834e+07</td>\n",
       "    </tr>\n",
       "    <tr>\n",
       "      <th>2</th>\n",
       "      <td>REVLIMID</td>\n",
       "      <td>5.111972e+07</td>\n",
       "    </tr>\n",
       "    <tr>\n",
       "      <th>1</th>\n",
       "      <td>CRESTOR</td>\n",
       "      <td>5.272927e+07</td>\n",
       "    </tr>\n",
       "    <tr>\n",
       "      <th>0</th>\n",
       "      <td>HARVONI</td>\n",
       "      <td>1.503435e+08</td>\n",
       "    </tr>\n",
       "  </tbody>\n",
       "</table>\n",
       "</div>"
      ],
      "text/plain": [
       "         drug_name    total_cost\n",
       "9           NEXIUM  3.543758e+07\n",
       "8           LANTUS  3.731856e+07\n",
       "7          RENVELA  4.059754e+07\n",
       "6          JANUVIA  4.090811e+07\n",
       "5    ADVAIR DISKUS  4.659865e+07\n",
       "4          SPIRIVA  4.790845e+07\n",
       "3  LANTUS SOLOSTAR  4.904834e+07\n",
       "2         REVLIMID  5.111972e+07\n",
       "1          CRESTOR  5.272927e+07\n",
       "0          HARVONI  1.503435e+08"
      ]
     },
     "execution_count": 11,
     "metadata": {},
     "output_type": "execute_result"
    }
   ],
   "source": [
    "x=df.head(10)[['drug_name','total_cost']].sort_index(ascending=False)\n",
    "x"
   ]
  },
  {
   "cell_type": "code",
   "execution_count": 12,
   "metadata": {
    "scrolled": true
   },
   "outputs": [
    {
     "data": {
      "text/plain": [
       "<matplotlib.axes._subplots.AxesSubplot at 0xa3c7470>"
      ]
     },
     "execution_count": 12,
     "metadata": {},
     "output_type": "execute_result"
    },
    {
     "data": {
      "image/png": "[encoded data removed]",
      "text/plain": [
       "<matplotlib.figure.Figure at 0xa3b1a90>"
      ]
     },
     "metadata": {},
     "output_type": "display_data"
    }
   ],
   "source": [
    "x.plot.barh(x='drug_name',y='total_cost')"
   ]
  },
  {
   "cell_type": "markdown",
   "metadata": {},
   "source": [
    "##### What is Harvoni?\n",
    "\n",
    "https://www.drugs.com/harvoni.html\n",
    "\n",
    "<img src=harvoni.jpg/>"
   ]
  },
  {
   "cell_type": "markdown",
   "metadata": {},
   "source": [
    "#### Which one is the most popular"
   ]
  },
  {
   "cell_type": "code",
   "execution_count": 13,
   "metadata": {},
   "outputs": [
    {
     "data": {
      "text/html": [
       "<div>\n",
       "<table border=\"1\" class=\"dataframe\">\n",
       "  <thead>\n",
       "    <tr style=\"text-align: right;\">\n",
       "      <th></th>\n",
       "      <th>drug_name</th>\n",
       "      <th>num_prescriber</th>\n",
       "      <th>total_cost</th>\n",
       "      <th>avg_cost</th>\n",
       "    </tr>\n",
       "  </thead>\n",
       "  <tbody>\n",
       "    <tr>\n",
       "      <th>93</th>\n",
       "      <td>LISINOPRIL</td>\n",
       "      <td>5673</td>\n",
       "      <td>5145472.17</td>\n",
       "      <td>907.010783</td>\n",
       "    </tr>\n",
       "    <tr>\n",
       "      <th>87</th>\n",
       "      <td>AMLODIPINE BESYLATE</td>\n",
       "      <td>5530</td>\n",
       "      <td>5499132.33</td>\n",
       "      <td>994.418143</td>\n",
       "    </tr>\n",
       "    <tr>\n",
       "      <th>31</th>\n",
       "      <td>ATORVASTATIN CALCIUM</td>\n",
       "      <td>5409</td>\n",
       "      <td>13827391.89</td>\n",
       "      <td>2556.367515</td>\n",
       "    </tr>\n",
       "    <tr>\n",
       "      <th>56</th>\n",
       "      <td>OMEPRAZOLE</td>\n",
       "      <td>5157</td>\n",
       "      <td>8627224.19</td>\n",
       "      <td>1672.915298</td>\n",
       "    </tr>\n",
       "    <tr>\n",
       "      <th>154</th>\n",
       "      <td>FUROSEMIDE</td>\n",
       "      <td>5095</td>\n",
       "      <td>3050446.12</td>\n",
       "      <td>598.713664</td>\n",
       "    </tr>\n",
       "    <tr>\n",
       "      <th>47</th>\n",
       "      <td>GABAPENTIN</td>\n",
       "      <td>5091</td>\n",
       "      <td>9950945.27</td>\n",
       "      <td>1954.615060</td>\n",
       "    </tr>\n",
       "    <tr>\n",
       "      <th>33</th>\n",
       "      <td>HYDROCODONE-ACETAMINOPHEN</td>\n",
       "      <td>4987</td>\n",
       "      <td>13659217.23</td>\n",
       "      <td>2738.964754</td>\n",
       "    </tr>\n",
       "    <tr>\n",
       "      <th>149</th>\n",
       "      <td>METOPROLOL TARTRATE</td>\n",
       "      <td>4708</td>\n",
       "      <td>3118313.12</td>\n",
       "      <td>662.343483</td>\n",
       "    </tr>\n",
       "    <tr>\n",
       "      <th>94</th>\n",
       "      <td>SIMVASTATIN</td>\n",
       "      <td>4596</td>\n",
       "      <td>5090509.68</td>\n",
       "      <td>1107.595666</td>\n",
       "    </tr>\n",
       "    <tr>\n",
       "      <th>28</th>\n",
       "      <td>LEVOTHYROXINE SODIUM</td>\n",
       "      <td>4574</td>\n",
       "      <td>14377096.90</td>\n",
       "      <td>3143.221885</td>\n",
       "    </tr>\n",
       "  </tbody>\n",
       "</table>\n",
       "</div>"
      ],
      "text/plain": [
       "                     drug_name  num_prescriber   total_cost     avg_cost\n",
       "93                  LISINOPRIL            5673   5145472.17   907.010783\n",
       "87         AMLODIPINE BESYLATE            5530   5499132.33   994.418143\n",
       "31        ATORVASTATIN CALCIUM            5409  13827391.89  2556.367515\n",
       "56                  OMEPRAZOLE            5157   8627224.19  1672.915298\n",
       "154                 FUROSEMIDE            5095   3050446.12   598.713664\n",
       "47                  GABAPENTIN            5091   9950945.27  1954.615060\n",
       "33   HYDROCODONE-ACETAMINOPHEN            4987  13659217.23  2738.964754\n",
       "149        METOPROLOL TARTRATE            4708   3118313.12   662.343483\n",
       "94                 SIMVASTATIN            4596   5090509.68  1107.595666\n",
       "28        LEVOTHYROXINE SODIUM            4574  14377096.90  3143.221885"
      ]
     },
     "execution_count": 13,
     "metadata": {},
     "output_type": "execute_result"
    }
   ],
   "source": [
    "x2 = df.sort_values('num_prescriber', ascending=False).head(10)\n",
    "x2"
   ]
  },
  {
   "cell_type": "code",
   "execution_count": 14,
   "metadata": {},
   "outputs": [
    {
     "data": {
      "text/plain": [
       "<matplotlib.axes._subplots.AxesSubplot at 0xa3d3048>"
      ]
     },
     "execution_count": 14,
     "metadata": {},
     "output_type": "execute_result"
    },
    {
     "data": {
      "image/png": "[encoded data removed]",
      "text/plain": [
       "<matplotlib.figure.Figure at 0xa3b1f98>"
      ]
     },
     "metadata": {},
     "output_type": "display_data"
    }
   ],
   "source": [
    "x2.plot.barh(x='drug_name',y='num_prescriber')"
   ]
  },
  {
   "cell_type": "markdown",
   "metadata": {},
   "source": [
    "##### What is LISINOPRIL?\n",
    "\n",
    "https://www.drugs.com/LISINOPRIL.html\n",
    "\n",
    "<img src=LISINOPRIL.jpg/>"
   ]
  },
  {
   "cell_type": "markdown",
   "metadata": {},
   "source": [
    "#### Which one has the highest average cost?"
   ]
  },
  {
   "cell_type": "code",
   "execution_count": 15,
   "metadata": {},
   "outputs": [
    {
     "data": {
      "text/html": [
       "<div>\n",
       "<table border=\"1\" class=\"dataframe\">\n",
       "  <thead>\n",
       "    <tr style=\"text-align: right;\">\n",
       "      <th></th>\n",
       "      <th>drug_name</th>\n",
       "      <th>num_prescriber</th>\n",
       "      <th>total_cost</th>\n",
       "      <th>avg_cost</th>\n",
       "    </tr>\n",
       "  </thead>\n",
       "  <tbody>\n",
       "    <tr>\n",
       "      <th>188</th>\n",
       "      <td>GAMMAKED</td>\n",
       "      <td>1</td>\n",
       "      <td>2.365574e+06</td>\n",
       "      <td>2.365574e+06</td>\n",
       "    </tr>\n",
       "    <tr>\n",
       "      <th>307</th>\n",
       "      <td>MYALEPT</td>\n",
       "      <td>1</td>\n",
       "      <td>1.125671e+06</td>\n",
       "      <td>1.125671e+06</td>\n",
       "    </tr>\n",
       "    <tr>\n",
       "      <th>0</th>\n",
       "      <td>HARVONI</td>\n",
       "      <td>135</td>\n",
       "      <td>1.503435e+08</td>\n",
       "      <td>1.113655e+06</td>\n",
       "    </tr>\n",
       "    <tr>\n",
       "      <th>148</th>\n",
       "      <td>H.P. ACTHAR</td>\n",
       "      <td>5</td>\n",
       "      <td>3.150904e+06</td>\n",
       "      <td>6.301808e+05</td>\n",
       "    </tr>\n",
       "    <tr>\n",
       "      <th>133</th>\n",
       "      <td>SUBSYS</td>\n",
       "      <td>6</td>\n",
       "      <td>3.562756e+06</td>\n",
       "      <td>5.937926e+05</td>\n",
       "    </tr>\n",
       "    <tr>\n",
       "      <th>454</th>\n",
       "      <td>VPRIV</td>\n",
       "      <td>1</td>\n",
       "      <td>5.670470e+05</td>\n",
       "      <td>5.670470e+05</td>\n",
       "    </tr>\n",
       "    <tr>\n",
       "      <th>18</th>\n",
       "      <td>SOVALDI</td>\n",
       "      <td>41</td>\n",
       "      <td>2.291109e+07</td>\n",
       "      <td>5.588071e+05</td>\n",
       "    </tr>\n",
       "    <tr>\n",
       "      <th>178</th>\n",
       "      <td>OLYSIO</td>\n",
       "      <td>5</td>\n",
       "      <td>2.556003e+06</td>\n",
       "      <td>5.112006e+05</td>\n",
       "    </tr>\n",
       "    <tr>\n",
       "      <th>344</th>\n",
       "      <td>SOLIRIS</td>\n",
       "      <td>2</td>\n",
       "      <td>9.632377e+05</td>\n",
       "      <td>4.816189e+05</td>\n",
       "    </tr>\n",
       "    <tr>\n",
       "      <th>494</th>\n",
       "      <td>RAVICTI</td>\n",
       "      <td>1</td>\n",
       "      <td>4.806375e+05</td>\n",
       "      <td>4.806375e+05</td>\n",
       "    </tr>\n",
       "  </tbody>\n",
       "</table>\n",
       "</div>"
      ],
      "text/plain": [
       "       drug_name  num_prescriber    total_cost      avg_cost\n",
       "188     GAMMAKED               1  2.365574e+06  2.365574e+06\n",
       "307      MYALEPT               1  1.125671e+06  1.125671e+06\n",
       "0        HARVONI             135  1.503435e+08  1.113655e+06\n",
       "148  H.P. ACTHAR               5  3.150904e+06  6.301808e+05\n",
       "133       SUBSYS               6  3.562756e+06  5.937926e+05\n",
       "454        VPRIV               1  5.670470e+05  5.670470e+05\n",
       "18       SOVALDI              41  2.291109e+07  5.588071e+05\n",
       "178       OLYSIO               5  2.556003e+06  5.112006e+05\n",
       "344      SOLIRIS               2  9.632377e+05  4.816189e+05\n",
       "494      RAVICTI               1  4.806375e+05  4.806375e+05"
      ]
     },
     "execution_count": 15,
     "metadata": {},
     "output_type": "execute_result"
    }
   ],
   "source": [
    "x3 = df.sort_values('avg_cost', ascending=False).head(10)\n",
    "x3"
   ]
  },
  {
   "cell_type": "code",
   "execution_count": 16,
   "metadata": {},
   "outputs": [
    {
     "data": {
      "text/plain": [
       "<matplotlib.axes._subplots.AxesSubplot at 0xa47c710>"
      ]
     },
     "execution_count": 16,
     "metadata": {},
     "output_type": "execute_result"
    },
    {
     "data": {
      "image/png": "[encoded data removed]",
      "text/plain": [
       "<matplotlib.figure.Figure at 0x9f48b70>"
      ]
     },
     "metadata": {},
     "output_type": "display_data"
    }
   ],
   "source": [
    "x3.plot.barh(x='drug_name',y='avg_cost')"
   ]
  },
  {
   "cell_type": "markdown",
   "metadata": {},
   "source": [
    "##### What is GAMMAKED?\n",
    "\n",
    "http://www.gammaked.com/patients-caregivers/about-gammaked/\n",
    "\n",
    "<img src=\"GAMMAKED.jpg\"/>"
   ]
  },
  {
   "cell_type": "code",
   "execution_count": null,
   "metadata": {},
   "outputs": [],
   "source": []
  }
 ],
 "metadata": {
  "anaconda-cloud": {},
  "kernelspec": {
   "display_name": "Python 3",
   "language": "python",
   "name": "python3"
  },
  "language_info": {
   "codemirror_mode": {
    "name": "ipython",
    "version": 3
   },
   "file_extension": ".py",
   "mimetype": "text/x-python",
   "name": "python",
   "nbconvert_exporter": "python",
   "pygments_lexer": "ipython3",
   "version": "3.5.2"
  }
 },
 "nbformat": 4,
 "nbformat_minor": 2
}
